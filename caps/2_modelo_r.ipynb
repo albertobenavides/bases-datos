{
 "cells": [
  {
   "cell_type": "markdown",
   "id": "d91aebd6",
   "metadata": {},
   "source": [
    "# Modelo relacional"
   ]
  },
  {
   "cell_type": "markdown",
   "id": "50eff5cd",
   "metadata": {},
   "source": [
    "Referencias de este capítulo {cite}`silberschatEA2006,conclase2004`."
   ]
  },
  {
   "cell_type": "markdown",
   "id": "635b31e3",
   "metadata": {},
   "source": [
    "Otro de los modelos para bases de datos es el **modelo relacional** que usa tablas, llamadas **relaciones**. Estas relaciones almacenan registros en forma de filas, llamados **tuplas**, cuya combinación de **atributos** (dados por columnas y sus encabezados) son únicos. Es posible que los valores de los atributos de una tupla estén vacíos, lo que se representa con la palabra clave `NULL`. Análogamente al modelo e-r, se considera que cada tabla del modelo relacional corresponde a un conjunto de entidades, cada fila a una entidad y cada encabezado de la tabla sería un atributo. \n",
    "\n",
    "A partir de ahora, se usarán nombres de variables para denotar encabezados, relaciones, etc. Es decir, en lugar de escribir `fecha de nacimiento`, se usara `fecha_nacimiento`, `nacimiento`, `birthday` o equivalentes que no usen espacios o caracteres especiales (como la ñ). En la {numref}`rel:ejemplo` aparece un ejemplo de un modelo relacional para una libreta de direcciones.\n",
    "\n",
    "```{table} Ejemplo de tabla de modelo relacional.\n",
    ":name: rel:ejemplo\n",
    "\n",
    "| `name`    | `lastname`    | `phone`   | `mail`    | `birthday`|\n",
    "|---        |---            |---        |---        |---        |\n",
    "| Fulano | de Tal | 8111111111 | fulano@correo.com | 1987-01-01 |\n",
    "| ... | ... | ... | ... | ... |\n",
    "| Mengana | de Cual | 8123456789 | mengana@correo.com | 1988-12-31 |\n",
    "```"
   ]
  },
  {
   "cell_type": "markdown",
   "id": "a14cc383",
   "metadata": {},
   "source": [
    "## Dominios\n",
    "\n",
    "Para cada tabla del modelo relacional, existen atributos que tienen asociados **dominios**. Cada uno de estos dominios supone un conjunto de valores posibles, denotados por $D$, que pueden tomar sus posibles valores $v$. \n",
    "\n",
    "Siguiendo esta lógica, si una tienda de _sandwiches_ ofrece \"armar tu propio _sandwich_' con diferentes tipos de pan, carne y queso, su traducción al modelo relacional partiría de la relación `sandwich` con atributos `pan`, `carne` y `queso` y sus correspondientes dominios $D_{\\texttt{pan}}$, $D_{\\texttt{carne}}$, $D_{\\texttt{queso}}$, de donde se pueden formar $v$ sandwiches incluidos en el subconjunto de la combinación de esos dominios, denotada **producto cartesiano**, tal que\n",
    "\n",
    "$$\n",
    "D_\\texttt{pan} \\times D_{\\texttt{carne}} \\times D_{\\texttt{queso}}.\n",
    "$$"
   ]
  },
  {
   "cell_type": "markdown",
   "id": "07d6e9ea",
   "metadata": {},
   "source": [
    "## Claves\n",
    "Para diferenciar tuplas, es necesario que en las relaciones haya atributos que las identifican de manera inequívoca. A estos atributos se les llama **claves**. Existen diferentes tipos de claves en el modelo relacional, pero las más importantes son\n",
    "- Primaria: Uno o más atributos usados para identificar las tuplas, motivo por el cual no pueden ser `NULL`.\n",
    "- Foránea: Atributo que almacena la clave primaria de una relación (puede ser consigo misma)."
   ]
  },
  {
   "cell_type": "markdown",
   "id": "d6dc3fc9",
   "metadata": {},
   "source": [
    "## Interrelaciones\n",
    "Para evitar confusiones, se llaman **interrelaciones** a las relaciones de tablas (llamadas formalmente **relaciones**) en el modelo relacional. Similar al modelo e-r, se pueden interrelacionar relaciones de modo **uno a uno**, **uno a muchos** y **muchos a muchos**."
   ]
  },
  {
   "cell_type": "markdown",
   "id": "868f2bfb",
   "metadata": {},
   "source": [
    "## Representación\n",
    "En el modelo relacional se pueden representar las bases de datos como **esquemas**, tal como el que aparece a continuación.\n",
    "<pre>\n",
    "Relación1(<u>clave_primaria1</u> atributo1, atributo2, ..., clave_foránea_relación3)\n",
    "Relación2(<u>clave_primaria2</u>, atributo3, ..., clave_foránea_relación1)\n",
    "Relación3(<u>clave_primaria3</u>, atributo4, ..., clave_foránea_relación1)\n",
    "Relación1_relación2(<u>clave_foránea_relación1</u>, <u>clave_foránea_relación1</u>, atributo5, ...)\n",
    "</pre>\n",
    "\n",
    "Nótese que\n",
    "1. las relaciones se escriben con mayúscula inicial,\n",
    "1. seguidas por un paréntesis con todos sus atributos,\n",
    "1. las claves primarias van subrayadas, \n",
    "1. las claves foráneas se escriben, generalmente, al final,\n",
    "1. las interrelaciones \n",
    "    - llevan la unión de nombres de las relaciones que las forman, mediante un guión bajo,\n",
    "    - se escriben con mayúscula inicial,\n",
    "1. se establecen por las claves foráneas de las relaciones. O sea,\n",
    "    - la `relación1` con la `relación2` forman una interrelación **uno a muchos**; \n",
    "    - la `relación1` con la `relación3` de **uno a uno**; \n",
    "    - y la `relación1` con la `relación4` de **muchos a muchos**. \n",
    "    \n",
    "Esto mismo puede representarse gráficamente como se muestra en la {numref}`fig:rel:diagrama`. Prestar atención a los símbolos para denotar la cardinalidad de las interrelaciones.\n",
    "% https://mermaid.live/edit#pako:eNqFkk1OwzAQha9izbpdNEk32VXQBRICCXaVpWqIBxg1tqOpg1QlORVH4GLUhUQEQruc5-fvaX4aKLwhyIHkmvFF0Gqn1MP6dnV1c3-3UG07n3d-EBKVKw3sAolQiQV_vDsN4y9NLJUy3rJjr4oS32hbCVsUxsX4EYPwUx38P3IS5e4nPjmPT6Y56R_OV2dtOwjpxc7S89HpdHQ2Ee2b0VCzi9HZ7-ievjzRYQaWxCKb4yJPTg3hlSxpiGSDsou86Ksrg4HWhoMXyJ-x3NMM8Eh6PLgC8iA19abvexhcFbqN933dfQL2OL0V\n",
    "````{div} full-width\n",
    "```{figure} ../imgs/rel_diagrama.svg\n",
    ":name: fig:rel:diagrama\n",
    "\n",
    "Representación gráfica de un modelo relacional.\n",
    "```\n",
    "````"
   ]
  },
  {
   "cell_type": "markdown",
   "id": "7f18828a",
   "metadata": {},
   "source": [
    "## Álgebra relacional\n",
    "\n",
    "El **álgebra relacional** es un lenguaje por el que se consultan o manipulan las relaciones en el modelo relacional. Al tratarse de un lenguaje algebraico, supone una serie de operadores. \n",
    "\n",
    "Para entender estos operadores, se partirá de un ejemplo obtenido de una base de datos de _soccer_ europeo compartida en [Kaggle](https://www.kaggle.com/code/dimarudov/data-analysis-using-sql/data). Hay muchos ejemplos de bases de datos que se pueden usar, como [éste](https://github.com/kite1988/nus-sms-corpus), [este otro](https://www.kaggle.com/datasets/kaggle/meta-kaggle), o los presentes [aquí](https://www.sqlskills.com/sql-server-resources/sql-server-demos/). \n",
    "\n",
    "En fin, de la base de datos de _soccer_ nos quedaremos con las siguientes relaciones:\n",
    "<pre>\n",
    "Country (<u>id</u>, name)\n",
    "League (<u>id</u>, name, country_id)\n",
    "Team (<u>id</u>, team_long_name, team_short_name)\n",
    "Player (<u>id</u>, player_name, birthday, height, weight)\n",
    "Match (<u>id</u>, home_team_goal, away_team_goal, country_id, league_id, home_team_id, away_team_id)\n",
    "</pre>\n",
    "\n",
    "### Selección"
   ]
  },
  {
   "cell_type": "markdown",
   "id": "666d7ef9-8115-4f4d-8f60-6a24a5b7c848",
   "metadata": {},
   "source": [
    "## Tarea\n",
    "\n",
    "### Instrucciones\n",
    "1. [8 puntos] Crea un diagrama relacional de tu base de datos a partir del modelo e-r de la tarea anterior.\n",
    "\n",
    "Puntos extra\n",
    "- \n",
    "\n",
    "### Ejemplo\n"
   ]
  }
 ],
 "metadata": {
  "kernelspec": {
   "display_name": "Python 3.10.4 ('ds')",
   "language": "python",
   "name": "python3"
  },
  "language_info": {
   "codemirror_mode": {
    "name": "ipython",
    "version": 3
   },
   "file_extension": ".py",
   "mimetype": "text/x-python",
   "name": "python",
   "nbconvert_exporter": "python",
   "pygments_lexer": "ipython3",
   "version": "3.10.4"
  },
  "vscode": {
   "interpreter": {
    "hash": "73cfb11ebb5098915952b858e6200bb38d79de5587d8fc0575441f97863c5189"
   }
  }
 },
 "nbformat": 4,
 "nbformat_minor": 5
}
