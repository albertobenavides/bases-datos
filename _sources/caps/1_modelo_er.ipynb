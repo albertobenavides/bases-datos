{
 "cells": [
  {
   "cell_type": "markdown",
   "id": "c7185509-3ea6-4dd0-b46b-e1c9734fc0dd",
   "metadata": {},
   "source": [
    "# Modelo entidad-relación\n",
    "\n",
    "Referencias de este capítulo {cite}`silberschatEA2006,conclase2004`.\n",
    "\n",
    "El modelo entidad-relación, también llamado modelo e-r, representa uno de los modelos de representación de bases de datos. Entre otros se halla el orientado a objetos o el relacional, que se verá en el siguiente capítulo."
   ]
  },
  {
   "cell_type": "markdown",
   "id": "54418c24-58c8-4219-834a-dca021a81ded",
   "metadata": {},
   "source": [
    "## Conceptos fundamentales\n",
    "En el modelo e-r, se epresentan objetos únicos como **entidades** agrupadas en **conjuntos de entidades** que comparten las mismas característiticas generales, llamadas **atributos**. Los atributos no cambian con el tiempo, de modo que la edad no es un atributo, pero sí la fecha de nacimiento. Adicionalmente, los **atributos** tienen **dominios** que limitan los posibles valores que pueden tomar.\n",
    "\n",
    "Las interacciones entre **conjuntos de entidades** se plasman con **relaciones**. El **grado** de las relaciones se mide por el número de **conjuntos de entidades** que intervienen en una misma relación. Una relación de grado 2 se llama **binaria**; una de grado 3, **ternaria**, etc.\n",
    "\n",
    "Hasta aquí, podemos establecer un ejemplo con una familia formada por padre, madre, hijo e hija. Cada integrante es una entidad. Todos los integrantes forman un conjunto de entidades que podríamos llamar `persona`. Podría interesarnos de estas personas conocer el `nombre`, `apellido parterno`, `apellido materno`, su `fecha de nacimiento`. Se puede establecer una relación ternaria entre padre, madre y cada hijo, del tipo padre y madre `procrearon` a cada hijo."
   ]
  },
  {
   "cell_type": "markdown",
   "id": "6076ee5b",
   "metadata": {},
   "source": [
    "## Cardinalidad\n",
    "Pese a que las relaciones pueden tener grado superior a 2, lo más común es encontrarse relaciones binarias entre conjuntos de entidades. Para estas relaciones binarias, se pueden establecer conjuntos de entidades llamadas **cardinalidades**. Las cardinalidades de las relaciones pueden ser **uno a uno**, **uno a mucho**, **muchos a uno** y **muchos a muchos**. \n",
    "\n",
    "Esto se puede representar en grafos y conjuntos entre entidades A y B a partir de relaciones binarias como arcos, como se ve en las figuras {numref}`%s<fig:cardinalidad:uno_uno>`, {numref}`%s<fig:cardinalidad:uno_muchos>`, {numref}`%s<fig:cardinalidad:muchos_uno>` y {numref}`%s<fig:cardinalidad:muchos_muchos>`."
   ]
  },
  {
   "cell_type": "markdown",
   "id": "9e76e0a2",
   "metadata": {},
   "source": [
    ":::::{div} full-width\n",
    "::::{grid}\n",
    "\n",
    ":::{grid-item}\n",
    "```{figure} ../imgs/card_uno_uno.svg\n",
    ":name: fig:cardinalidad:uno_uno\n",
    "\n",
    "Uno a uno.\n",
    "```\n",
    ":::\n",
    "\n",
    ":::{grid-item}\n",
    "```{figure} ../imgs/card_uno_muchos.svg\n",
    ":name: fig:cardinalidad:uno_muchos\n",
    "\n",
    "Uno a muchos.\n",
    "```\n",
    ":::\n",
    "\n",
    ":::{grid-item}\n",
    "```{figure} ../imgs/card_muchos_uno.svg\n",
    ":name: fig:cardinalidad:muchos_uno\n",
    "\n",
    "Muchos a uno.\n",
    "```\n",
    ":::\n",
    "\n",
    ":::{grid-item}\n",
    "```{figure} ../imgs/card_muchos_muchos.svg\n",
    ":name: fig:cardinalidad:muchos_muchos\n",
    "\n",
    "Muchos a muchos.\n",
    "```\n",
    ":::\n",
    "\n",
    "::::\n",
    ":::::"
   ]
  },
  {
   "cell_type": "markdown",
   "id": "cb38f0ed",
   "metadata": {},
   "source": [
    "## Claves\n",
    "Las **claves** son atributos necesarios para diferencias inequívocamente las entidades. Puedes pensarlo como las huellas digitales que permitirían diferenciar incluso a personas con el mismo nombre y apariencia física (como el caso de [Will y William West](https://rarehistoricalphotos.com/will-william-west-case-fingerprints/)).\n",
    "\n",
    "En este contexto, las **claves mínimas** son aquellos atributos que podrían utilizarse como claves y que dejarían de serlo si se modifican en alguna forma. Para un mayor de edad en México, serían sus huellas digitales y su [INE](https://www.ine.mx/credencial/), por ejemplo.\n",
    "\n",
    "Cuando hay varios atrituvos que cumplen con los requisitos, se llama **claves candidatas**. Elegir una de estas claves para representar a un modelo la convierte en **clave principal o primaria**.\n",
    "\n",
    "Por último, cuando se quieren establecer claves para relaciones de muchos a muchos, se suelen utilizar **claves múltiples o interrelacionadas**."
   ]
  },
  {
   "cell_type": "markdown",
   "id": "52cad6aa",
   "metadata": {},
   "source": [
    "## Fuerza de entidades\n",
    "Las entidades pueden ser clasificadas como **fuertes** o **débiles**. Las fuertes son aquellas que tienen su propia clave primaria, mientras que las débiles son aquellas que usan la clave privada de otra entidad al lado de otros atributos."
   ]
  },
  {
   "cell_type": "markdown",
   "id": "7ef075f2",
   "metadata": {},
   "source": [
    "## Generalización\n",
    "Técnica usada cuando diferentes entidades tienen atributos en común, lo cual amerita reunirlas bajo el mismo conjunto de entidades. En un restaurante, por ejemplo, los cocineros, meseros, cajeros y lavalozas son agrupados bajo la entidad `empleados` por compartir los atributos `nombre`, `salario`, `hora entrada`, `hora salida`, `días de trabajo`."
   ]
  },
  {
   "cell_type": "markdown",
   "id": "1fe01853",
   "metadata": {},
   "source": [
    "## Especialización\n",
    "Se trata de generar entidades subordinadas a partir de otras que comparten característicias generales. En el restaurante se podrían subordinar de `empleados` las entidades entidades `cocinero`, `mesero`, `cajero`, `lava lozas`, cada uno con atritutos específicos, tal que el `cocinero` podría tener `especialidad`, el `mesero` un `área asignada`, etc."
   ]
  },
  {
   "cell_type": "markdown",
   "id": "c3130ed0",
   "metadata": {},
   "source": [
    "## Diagrama entidad-relación\n",
    "Los modelos entidad-relación pueden representarse mediante diagramas que usan\n",
    "- **rectángulos** para **entidades**,\n",
    "- **elipses** para **atributos**,\n",
    "- **elipses** subrayados para **claves primarias**,\n",
    "- **rombos** para **relaciones,** \n",
    "- **líneas** para unir **relaciones** y **entidades**,\n",
    "- **números** `1` para relaciones uno, y `N` para muchos,\n",
    "- **hexágonos** para **dominios**, \n",
    "- **triángulos** para **generalizaciones** y **especializaciones**.\n",
    "\n",
    "%flowchart TB\n",
    "%  d1{{Dominio1}} --- a1\n",
    "%  d2{{Dominio2}} --- a2\n",
    "%  d3{{Dominio3}} --- a3\n",
    "%  d4{{Dominio4}} --- a4\n",
    "%\n",
    "%  a1([Atributo1]) --- EntidadA\n",
    "%  a2([Atributo2]) --- EntidadA\n",
    "%\n",
    "%  EntidadA -- 1 --- r{Relación}\n",
    "%  EntidadB -- N --- r{Relación}\n",
    "%\n",
    "%  a3([Atributo3]) --- EntidadB\n",
    "%  a4([Atributo4]) --- EntidadB\n",
    "\n",
    "Una representación meramente didáctica con estos elementos puede verse en la {numref}`fig:e-r:grafico`.\n",
    "\n",
    "```{figure} ../imgs/er_graf.svg\n",
    ":name: fig:e-r:grafico\n",
    "\n",
    "Representación gráfica mínima de un modelo e-r.\n",
    "```"
   ]
  },
  {
   "cell_type": "markdown",
   "id": "c805de75",
   "metadata": {},
   "source": [
    "%## Agregación"
   ]
  },
  {
   "cell_type": "markdown",
   "id": "666d7ef9-8115-4f4d-8f60-6a24a5b7c848",
   "metadata": {},
   "source": [
    "## Tarea\n",
    "\n",
    "### Instrucciones\n",
    "1. [8 puntos] Convierte tu base de datos no estructurada en un modelo entidad-relación, representándolo con un diagrama entidad-relación. Usa nodos con figuras correctas y aristas claramente señaladas con los números correspondientes para las relaciones.\n",
    "1. [2 punto] Muestra el dominio de los atributos.\n",
    "1. Subir esta descripción en un archivo `markdown` o `PDF` nombrado claramente (tarea 1 o algo por el estilo).\n",
    "\n",
    "### Ejemplo\n",
    "\n",
    "Aquí se puede ver el diagrama e-r del ejemplo de lacrosse.\n",
    "\n",
    ":::{div} full-width\n",
    "```{figure} ../imgs/er_ejemplo.svg\n",
    ":name: fig:e-r:ejemplo\n",
    "\n",
    "Modelo e-r de torneos de lacrosse.\n",
    "```\n",
    ":::\n",
    "\n",
    "%flowchart TB\n",
    "%  aT0([Id]) --- Torneo\n",
    "%  aT1([Nombre]) --- Torneo\n",
    "%  aT2([Inicio]) --- Torneo\n",
    "%  aT3([Fin]) --- Torneo\n",
    "%  aT4([Calle]) --- Torneo\n",
    "%  aT5([Número]) --- Torneo\n",
    "%  aT6([Colonia]) --- Torneo\n",
    "%  aT7([Municipio]) --- Torneo\n",
    "%  aT8([Estado]) --- Torneo\n",
    "%  aT9([País]) --- Torneo\n",
    "%\n",
    "%  Torneo --- rTP{Tiene}\n",
    "%  rTP{Tiene} --- Partido\n",
    "%\n",
    "%  aP1([Id Equipo visitante]) --- Partido\n",
    "%  aP2([Id Equipo local]) --- Partido\n",
    "%  aP3([Fecha y hora]) --- Partido\n",
    "%  aP4([Resultado]) --- Partido\n",
    "%  \n",
    "%  Partido --- r3{Tiene}\n",
    "%  r3{Tiene} --- Gol\n",
    "%\n",
    "%  aE0([Id]) --- Equipo\n",
    "%  aE1([Nombre]) --- Equipo\n",
    "%  aE2([Logo]) --- Equipo\n",
    "%  aE3([Color]) --- Equipo\n",
    "%\n",
    "%  Partido --- rPE{Recibe}\n",
    "%  rPE{Recibe} ---  Equipo\n",
    "%\n",
    "%  Partido --- rPE2{Visita}\n",
    "%  rPE2{Visita} ---  Equipo\n",
    "%\n",
    "%  aJ0([Id]) --- Jugador\n",
    "%  aJ1([Nombre]) --- Jugador\n",
    "%  aJ2([Número]) --- Jugador\n",
    "%  aJ3([Id Equipo]) --- Jugador\n",
    "%\n",
    "%  Equipo --- rEJ{Juega}\n",
    "%  rEJ{Juega} --- Jugador\n",
    "%\n",
    "%  aG1([Id Jugador]) --- Gol\n",
    "%  aG2([Id Partido]) --- Gol\n",
    "%\n",
    "%  aG3([Tiempo]) --- rJG\n",
    "%  Jugador --- rJG{Mete}\n",
    "%  rJG{Mete} --- Gol\n",
    "%\n",
    "%  Jugador --- rJG2{Ataja}\n",
    "%  rJG2{Ataja} --- Gol\n",
    "%\n",
    "%  aG4([Tiempo]) --- rJG2"
   ]
  }
 ],
 "metadata": {
  "kernelspec": {
   "display_name": "Python 3.10.4 ('ds')",
   "language": "python",
   "name": "python3"
  },
  "language_info": {
   "codemirror_mode": {
    "name": "ipython",
    "version": 3
   },
   "file_extension": ".py",
   "mimetype": "text/x-python",
   "name": "python",
   "nbconvert_exporter": "python",
   "pygments_lexer": "ipython3",
   "version": "3.10.4"
  },
  "vscode": {
   "interpreter": {
    "hash": "73cfb11ebb5098915952b858e6200bb38d79de5587d8fc0575441f97863c5189"
   }
  }
 },
 "nbformat": 4,
 "nbformat_minor": 5
}
