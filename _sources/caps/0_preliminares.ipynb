{
 "cells": [
  {
   "cell_type": "markdown",
   "id": "c7185509-3ea6-4dd0-b46b-e1c9734fc0dd",
   "metadata": {},
   "source": [
    "# Preliminares\n",
    "\n",
    "Este capítulo tiene los conceptos fundamentales de las bases de datos. Son generalidades, pero conviene tenerlos a mano. \n",
    "\n",
    "Referencias de este capítulo {cite}`silberschatEA2006,beaulieu2020`."
   ]
  },
  {
   "cell_type": "markdown",
   "id": "b7a5cb49-0399-46aa-b123-6a2cf1c62d5c",
   "metadata": {
    "tags": []
   },
   "source": [
    "## Base de datos\n",
    "\n",
    "Un **dato** representa características de determinado **objeto**. Los datos permanecen en el tiempo y se pueden modificar mediante operadores.\n",
    "\n",
    "Las **bases de datos**, abreviadas BD, son estructuras que contienen un conjunto de datos relacionados, como una libreta de direcciones.\n",
    "\n",
    ":::{admonition} Ejemplo\n",
    "Libreta de direcciones\n",
    "```\n",
    "Fulano 811 1234 5678\n",
    "Mengana 644 0987 65463\n",
    "...\n",
    "```\n",
    ":::"
   ]
  },
  {
   "cell_type": "markdown",
   "id": "871f5b8a-7ef7-453f-b852-6ab2a480ca71",
   "metadata": {},
   "source": [
    "## Sistema gestor de bases de datos\n",
    "Los **sistemas gestores de bases de datos**, abreviados SGBD, son conjuntos de aplicaciones y BD."
   ]
  },
  {
   "cell_type": "markdown",
   "id": "d5b66611-c0fa-454d-bc9d-e8250a6dd334",
   "metadata": {},
   "source": [
    "## Representaciones de datos\n",
    "Para ejemplificar, pensemos en un blog en el que `usuarios` puedan escribir `publicaciones` a las que se les pueda agregar `comentarios`. "
   ]
  },
  {
   "cell_type": "markdown",
   "id": "734014ab-2717-4568-b12e-183a49526c9a",
   "metadata": {},
   "source": [
    "### Datos no estructurados\n",
    "Esta descripción textual de datos se llama **no estructurada** porque carece de estructuras (o etiquedas) con que diferenciar los datos. Otro tipo de representaciones no estrucutradas son los **esquemas**, que permiten una vista más detallada del sistema de un blog. De esta manera, se puede definir que el blog permite a\n",
    "- `usuarios`,\n",
    "  - con `nombre de usuario`,\n",
    "  - `correo`, y\n",
    "  - `contraseña`;\n",
    "- crear `publicaciones`,\n",
    "  - con `título`, y\n",
    "  - `contenido`;\n",
    "- a las que pueden agregar `comentarios`\n",
    "  - con un `mensaje`.\n",
    "  \n",
    "### Datos estructurados\n",
    "Asímismo, cada nivel principal (`usuarios`, `publicaciones` y `comentarios`) puede trasladarse a tablas donde cada subnivel representa el encabezado de una columna. Se agregan ejemplos de `usuarios`, `publicaciones` y `comentarios` como filas o renglones de cada tabla. Este tipo de representación se llama **datos estructurados** en los que a cada columna le corresponde un dato específico. Aquí, como puede observarse en las tablas de `publicaciones` y `comentarios`, aparecen columnas que se relacionan con otras tablas, como la de `usuario`.\n",
    "\n",
    "**Usuario**\n",
    "| `Nombre de usuario` | `Correo` | `Contraseña` |\n",
    "| -- | -- | -- |\n",
    "| fulano | fulano@correo.com | 1234 |\n",
    "| mengana | mengana@correo.com | asdf |\n",
    "\n",
    "**Publicaciones**\n",
    "| `Título` | `Contenido` | `Usuario` |\n",
    "| -- | -- | -- |\n",
    "| Base de datos | Una base de datos... | fulano |\n",
    "| Modelo relacional | El Modelo relacional... | mengana |\n",
    "\n",
    "**Comentarios**\n",
    "| `Mensaje` | `Usuario` | `Publicación` |\n",
    "| -- | -- | -- |\n",
    "| Buena publicación... | fulano | Modelo relacional |\n",
    "| No estoy de acuerdo con... | mengana | Base de datos |\n",
    "\n",
    "Estas tablas suelen escribirse en archivos `CSV` (siglas en inglés de _comma separated values_, o valores separados por comas) . Por ejemplo, la tabla de `usuarios` quedaría\n",
    "\n",
    "```csv\n",
    "nombre_usuario,correo,contraseña\n",
    "fulano,fulano@correo.com,1234\n",
    "mengana,mengana@correo.com,asdf\n",
    "```\n",
    "  \n",
    "### Datos semiestructurados\n",
    "  \n",
    "Si llamamos a cada primer nivel del esquema (`usuario`, `publicaciones`, `comentarios`) **entidad** y a cada característica (como el `nombre de usuario`, el `título` de la `publicación`) **atributo**, pasamos de un modelo no estructurado a uno **semiestructurado** en el que hay elementos opcionales (como los `comentarios` en las `publicaciones`). Un ejemplo de notación que usa este tipo de datos son los archivos `JSON` que utilizan llaves `{}` y pares `clave : valor` para almacenar esta información. Nuevamente, el `JSON` de `usuarios` sería\n",
    "\n",
    "```json\n",
    "{\n",
    "  nombre_usuario : 'fulano',\n",
    "  correo : 'fulano@correo.com',\n",
    "  contraseña : 1234\n",
    "},\n",
    "{\n",
    "  nombre_usuario : 'mengana',\n",
    "  correo : 'mengana@correo.com',\n",
    "  contraseña : asdf\n",
    "}\n",
    "```\n",
    "\n",
    "Esta misma información puede representarse con un **grafo** en el que cada nodo sea una entidad y las relaciones entre ellos las aristas.\n",
    "\n",
    "<center>\n",
    "\n",
    "```{mermaid}\n",
    "flowchart LR\n",
    "    Usuario --- Publicación\n",
    "    Usuario --- Comentario\n",
    "    Publicación --- Comentario\n",
    "```\n",
    "\n",
    "</center>"
   ]
  },
  {
   "cell_type": "markdown",
   "id": "af6eacaf-5cca-4d5f-8588-087b2bee94be",
   "metadata": {},
   "source": [
    "## SQL\n",
    "**SQL** son las siglas de _Structured Query Language_ o lenguaje de consultas estructuradas. Una consulta a Alexa u OK Google del tipo \"Cuál es el teléfono de Fulano\" se traduciría en la siguiente estructura SQL\n",
    "```sql\n",
    "SELECT teléfono FROM contacto WHERE nombre = 'Fulano';\n",
    "```"
   ]
  },
  {
   "cell_type": "markdown",
   "id": "d6884381-d6fa-4fc8-b34d-e2d681d3f9f6",
   "metadata": {},
   "source": [
    "## Tipos de datos\n",
    "Tanto para los datos estructurados como los semiestructurados, la información de los atributos puede ser de diferentes tipos. En el caso del blog, el `nombre de usuario`, `correo`, `mensaje`, etc. son datos **textuales**, mas las BD pueden guardar otros tipos de datos, como **enteros**, **decimales**, **fecha**, **hora**, hasta datos multimedia tales como **documentos**, **imágenes**. Incluso es posible almacenar **estructuras de datos** como listas, conjuntos, entre otros."
   ]
  },
  {
   "cell_type": "markdown",
   "id": "666d7ef9-8115-4f4d-8f60-6a24a5b7c848",
   "metadata": {},
   "source": [
    "## Tarea\n",
    "\n",
    "### Instrucciones\n",
    "- [1 punto] Crear un repositorio público de Github\n",
    "- [1 punto] Compartir el repositorio en el Teams correspondiente\n",
    "- [7 puntos] Describir una base de datos y sus relaciones de manera no estructurada (puede ser un párrafo, lista, esquema...) con la que trabajar durante el semestre. Agrega el tipo de dato que supones tendrá cada uno de tus atributos. \n",
    "- [1 punto] Subir esta descripción en un archivo `markdown` o `PDF` nombrado claramente (tarea 1 o algo por el estilo).\n",
    "\n",
    "### Puntos extra [hasta 2 puntos] \n",
    "- Detallar relaciones entre modelos\n",
    "- Especificar cálculos entre atributos\n",
    "- Investigar diferentes SGBD, elegir alguno y describirlo\n",
    "\n",
    "### Ejemplo mínimo\n",
    "Un cliente requiere una página web donde llevar un control de partidos de Lacrosse a lo largo de varios torneos. Los torneos se registran en una dirección específica (calle, número, colonia...), en un rango de fechas determinado y además tienen un nombre. En cada torneo se celebra una serie de partidos. Los partidos se juegan en una fecha determinada entre dos equipos, uno local y otro visitante. Se requiere conocer el marcador global del partido. Para esto, es necesario registrar los equipos que participarán en el torneo con un nombre, su logo y color. Hay que saber cuáles son los jugadores de cada equipo con su nombre y número de camiseta. Además, al cliente le interesa conocer cuál es el jugador con más tantos anotados por partido y de manera global. Igualmente, quiere saber qué jugador hizo la mayor cantidad de intercepciones por partido y de manera global. Por otro lado interesa saber cuáles son los tantos e intercepciones por jugador y partido.\n",
    "\n",
    "- Torneo:\n",
    "    - nombre (texto),\n",
    "    - Partido (texto),\n",
    "    - inicio (fecha y hora),\n",
    "    - fin (fecha y hora),\n",
    "    - calle (texto),\n",
    "    - número (texto),\n",
    "    - colonia (texto),\n",
    "    - municipio (texto),\n",
    "    - estado (texto),\n",
    "    - país (texto).\n",
    "- Equipo:\n",
    "    - nombre (texto),\n",
    "    - logo (imagen),\n",
    "    - color (texto).\n",
    "- Jugador:\n",
    "    - nombre (texto),\n",
    "    - número (entero),\n",
    "    - Equipo.\n",
    "- Partido:\n",
    "    - Equipo visitante,\n",
    "    - Equipo local,\n",
    "    - fecha (fecha y hora),\n",
    "    - resultado (texto).\n",
    "- Gol:\n",
    "    - Partido,\n",
    "    - Jugador,\n",
    "    - tiempo (hora).\n",
    "- Salvada:\n",
    "    - Partido,\n",
    "    - Jugador,\n",
    "    - tiempo (hora).\n",
    "    \n",
    "<center>\n",
    "\n",
    "```{mermaid}\n",
    "flowchart TB\n",
    "    subgraph Equipos\n",
    "        Equipo_Local---|vs|Equipo_visitante\n",
    "    end\n",
    "    Partido --- Equipos    \n",
    "    Equipos --- Jugador\n",
    "    Jugador --- Gol\n",
    "    Jugador --- Salvada\n",
    "```\n",
    "\n",
    "</center>"
   ]
  }
 ],
 "metadata": {
  "kernelspec": {
   "display_name": "Python 3.10.4 ('ds')",
   "language": "python",
   "name": "python3"
  },
  "language_info": {
   "codemirror_mode": {
    "name": "ipython",
    "version": 3
   },
   "file_extension": ".py",
   "mimetype": "text/x-python",
   "name": "python",
   "nbconvert_exporter": "python",
   "pygments_lexer": "ipython3",
   "version": "3.10.4"
  },
  "vscode": {
   "interpreter": {
    "hash": "73cfb11ebb5098915952b858e6200bb38d79de5587d8fc0575441f97863c5189"
   }
  }
 },
 "nbformat": 4,
 "nbformat_minor": 5
}
