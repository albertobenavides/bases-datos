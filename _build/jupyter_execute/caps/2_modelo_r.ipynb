{
 "cells": [
  {
   "cell_type": "markdown",
   "id": "d91aebd6",
   "metadata": {},
   "source": [
    "# Modelo relacional"
   ]
  },
  {
   "cell_type": "markdown",
   "id": "50eff5cd",
   "metadata": {},
   "source": [
    "Referencias de este capítulo {cite}`silberschatEA2006,conclase2004`."
   ]
  },
  {
   "cell_type": "markdown",
   "id": "635b31e3",
   "metadata": {},
   "source": [
    "Otro de los modelos para bases de datos es el **modelo relacional** que usa tablas, llamadas **relaciones**. Estas relaciones almacenan registros en forma de filas, llamados **tuplas**, cuya combinación de **atributos** (dados por columnas y sus encabezados) son únicos. Es posible que los valores de los atributos de una tupla estén vacíos, lo que se representa con la palabra clave `NULL`. Análogamente al modelo e-r, se considera que cada tabla del modelo relacional corresponde a un conjunto de entidades, cada fila a una entidad y cada encabezado de la tabla sería un atributo. \n",
    "\n",
    "A partir de ahora, se usarán nombres de variables para denotar encabezados, relaciones, etc. Es decir, en lugar de escribir `fecha de nacimiento`, se usara `fecha_nacimiento`, `nacimiento`, `birthday` o equivalentes que no usen espacios o caracteres especiales (como la ñ). En la {numref}`rel:ejemplo` aparece un ejemplo de un modelo relacional para una libreta de direcciones.\n",
    "\n",
    "```{table} Ejemplo de tabla de modelo relacional.\n",
    ":name: rel:ejemplo\n",
    "\n",
    "| `name`    | `lastname`    | `phone`   | `mail`    | `birthday`|\n",
    "|---        |---            |---        |---        |---        |\n",
    "| Fulano | de Tal | 8111111111 | fulano@correo.com | 1987-01-01 |\n",
    "| ... | ... | ... | ... | ... |\n",
    "| Mengana | de Cual | 8123456789 | mengana@correo.com | 1988-12-31 |\n",
    "```"
   ]
  },
  {
   "cell_type": "markdown",
   "id": "a14cc383",
   "metadata": {},
   "source": [
    "## Dominios\n",
    "\n",
    "Para cada tabla del modelo relacional, existen atributos que tienen asociados **dominios**. Cada uno de estos dominios supone un conjunto de valores posibles, denotados por $D$, que pueden tomar sus posibles valores $v$. \n",
    "\n",
    "Siguiendo esta lógica, si una tienda de _sandwiches_ ofrece \"armar tu propio _sandwich_' con diferentes tipos de pan, carne y queso, su traducción al modelo relacional partiría de la relación `sandwich` con atributos `pan`, `carne` y `queso` y sus correspondientes dominios $D_{\\texttt{pan}}$, $D_{\\texttt{carne}}$, $D_{\\texttt{queso}}$, de donde se pueden formar $v$ sandwiches incluidos en el subconjunto de la combinación de esos dominios, denotada **producto cartesiano**, tal que\n",
    "\n",
    "$$\n",
    "D_\\texttt{pan} \\times D_{\\texttt{carne}} \\times D_{\\texttt{queso}}.\n",
    "$$"
   ]
  },
  {
   "cell_type": "markdown",
   "id": "07d6e9ea",
   "metadata": {},
   "source": [
    "## Claves\n",
    "Para diferenciar tuplas, es necesario que en las relaciones haya atributos que las identifican de manera inequívoca. A estos atributos se les llama **claves**. Existen diferentes tipos de claves en el modelo relacional, pero las más importantes son\n",
    "- Primaria: Uno o más atributos usados para identificar las tuplas, motivo por el cual no pueden ser `NULL`.\n",
    "- Foránea: Atributo que almacena la clave primaria de una relación (puede ser consigo misma)."
   ]
  },
  {
   "cell_type": "markdown",
   "id": "d6dc3fc9",
   "metadata": {},
   "source": [
    "## Interrelaciones\n",
    "Para evitar confusiones, se llaman **interrelaciones** a las relaciones de tablas (llamadas formalmente **relaciones**) en el modelo relacional. Similar al modelo e-r, se pueden interrelacionar relaciones de modo **uno a uno**, **uno a muchos** y **muchos a muchos**."
   ]
  },
  {
   "cell_type": "markdown",
   "id": "868f2bfb",
   "metadata": {},
   "source": [
    "## Representación\n",
    "En el modelo relacional se pueden representar las bases de datos como **esquemas**, tal como el que aparece a continuación.\n",
    "<pre>\n",
    "Relación1(<u>clave_primaria1</u> atributo1, atributo2, ..., clave_foránea_relación3)\n",
    "Relación2(<u>clave_primaria2</u>, atributo3, ..., clave_foránea_relación1)\n",
    "Relación3(<u>clave_primaria3</u>, atributo4, ..., clave_foránea_relación1)\n",
    "Relación1_relación2(<u>clave_foránea_relación1</u>, <u>clave_foránea_relación1</u>, atributo5, ...)\n",
    "</pre>\n",
    "\n",
    "Nótese que\n",
    "1. las relaciones se escriben con mayúscula inicial,\n",
    "1. seguidas por un paréntesis con todos sus atributos,\n",
    "1. las claves primarias van subrayadas, \n",
    "1. las claves foráneas se escriben, generalmente, al final,\n",
    "1. las interrelaciones \n",
    "    - llevan la unión de nombres de las relaciones que las forman, mediante un guión bajo,\n",
    "    - se escriben con mayúscula inicial,\n",
    "1. se establecen por las claves foráneas de las relaciones. O sea,\n",
    "    - la `relación1` con la `relación2` forman una interrelación **uno a muchos**; \n",
    "    - la `relación1` con la `relación3` de **uno a uno**; \n",
    "    - y la `relación1` con la `relación4` de **muchos a muchos**. \n",
    "    \n",
    "Esto mismo puede representarse gráficamente como se muestra en la {numref}`fig:rel:diagrama`. Prestar atención a los símbolos para denotar la cardinalidad de las interrelaciones.\n",
    "% https://mermaid.live/edit#pako:eNqFkk1OwzAQha9izbpdNEk32VXQBRICCXaVpWqIBxg1tqOpg1QlORVH4GLUhUQEQruc5-fvaX4aKLwhyIHkmvFF0Gqn1MP6dnV1c3-3UG07n3d-EBKVKw3sAolQiQV_vDsN4y9NLJUy3rJjr4oS32hbCVsUxsX4EYPwUx38P3IS5e4nPjmPT6Y56R_OV2dtOwjpxc7S89HpdHQ2Ee2b0VCzi9HZ7-ievjzRYQaWxCKb4yJPTg3hlSxpiGSDsou86Ksrg4HWhoMXyJ-x3NMM8Eh6PLgC8iA19abvexhcFbqN933dfQL2OL0V\n",
    "````{div} full-width\n",
    "```{figure} ../imgs/rel_diagrama.svg\n",
    ":name: fig:rel:diagrama\n",
    "\n",
    "Representación gráfica de un modelo relacional.\n",
    "```\n",
    "````"
   ]
  },
  {
   "cell_type": "markdown",
   "id": "7f18828a",
   "metadata": {},
   "source": [
    "## Álgebra relacional\n",
    "\n",
    "El **álgebra relacional** es un lenguaje por el que se consultan o manipulan las relaciones en el modelo relacional. Al tratarse de un lenguaje algebraico, supone una serie de operadores. \n",
    "\n",
    "Para entender estos operadores, se partirá de un ejemplo obtenido de una base de datos de _soccer_ europeo compartida en [Kaggle](https://www.kaggle.com/code/dimarudov/data-analysis-using-sql/data). Hay muchos ejemplos de bases de datos que se pueden usar, como [éste](https://github.com/kite1988/nus-sms-corpus), [este otro](https://www.kaggle.com/datasets/kaggle/meta-kaggle), o los presentes [aquí](https://www.sqlskills.com/sql-server-resources/sql-server-demos/). \n",
    "\n",
    "En fin, de la base de datos de _soccer_ nos quedaremos con las siguientes relaciones:\n",
    "<pre>\n",
    "Country (<u>id</u>, name)\n",
    "League (<u>id</u>, name, country_id)\n",
    "Team (<u>id</u>, team_long_name, team_short_name)\n",
    "Player (<u>id</u>, player_name, birthday, height, weight)\n",
    "Match (<u>id</u>, home_team_goal, away_team_goal, country_id, league_id, home_team_id, away_team_id)\n",
    "</pre>\n",
    "\n",
    "Hay un par de maneras de representar estas manipulaciones definidas por el álgebra relacional. Se presenta primero una matemática y luego otra computacional a partir de ejemplos."
   ]
  },
  {
   "cell_type": "markdown",
   "id": "2292d9b1",
   "metadata": {},
   "source": [
    "### Proyección\n",
    "Devuelve tuplas de los atributos especificados de una relación. Si hay tuplas repetidas, sólo se conserva la primera aparición.\n",
    "\n",
    "$$\n",
    "\\Pi_{\\texttt{atributo1, atributo2, \\ldots}}(\\texttt{relación})\n",
    "$$\n",
    "\n",
    "```\n",
    "relación[atributo1, atributo2, ...]\n",
    "```\n",
    "\n",
    "````{admonition} Ejercicio\n",
    "Qué hace esta proyección.\n",
    "\n",
    "$$\n",
    "\\sigma_{\\texttt{player_name, birthday}}(\\texttt{Player})\n",
    "$$\n",
    "\n",
    "```\n",
    "Player[player_name, birthday]\n",
    "```\n",
    "````"
   ]
  },
  {
   "cell_type": "markdown",
   "id": "2f02c170",
   "metadata": {},
   "source": [
    "### Selección\n",
    "\n",
    "Selecciona tuplas que cumplan con una condición.\n",
    "\n",
    "`````{margin}\n",
    "````{note}\n",
    "Para ver las columnas en SQLite se usa\n",
    "```\n",
    "PRAGMA table_info(Relación)\n",
    "```\n",
    "````\n",
    "`````\n",
    "\n",
    "$$\n",
    "\\sigma_{\\texttt{atributo * valor}}(\\texttt{relación})\n",
    "$$\n",
    "\n",
    "```\n",
    "relación[atributo * valor]\n",
    "```\n",
    "Donde `*` es un operador lógico ($=, \\neq, <, >, \\leq, \\geq$) con proposiones que pueden relacionarse con los operadores lógicos $\\land$, $\\lor$, $\\neg$.\n",
    "\n",
    "````{admonition} Ejercicio\n",
    "¿Qué hace esta selección?\n",
    "\n",
    "$$\n",
    "\\sigma_{(\\texttt{home_team_goal} > 4) \\lor (\\texttt{away_team_goal} > 4)}(\\texttt{Match})\n",
    "$$\n",
    "\n",
    "```\n",
    "Match[(home_team_goal > 4) | (away_team_goal > 4)]\n",
    "```\n",
    "````"
   ]
  },
  {
   "cell_type": "markdown",
   "id": "b41642d8",
   "metadata": {},
   "source": [
    "### Producto cartesiano\n",
    "\n",
    "El **producto cartesiano** es la combinación de todas las tuplas de un par de relaciones.\n",
    "\n",
    "$$\n",
    "\\texttt{relación1} \\times \\texttt{relación2}\n",
    "$$\n",
    "\n",
    "```\n",
    "relación1 × relación2\n",
    "```\n",
    "\n",
    "````{admonition} Ejercicio\n",
    "¿Qué hace este producto cartesiano?\n",
    "\n",
    "$$\n",
    "\\texttt{Team} \\times \\texttt{Team}\n",
    "$$\n",
    "\n",
    "```\n",
    "Team × Team\n",
    "```\n",
    "````"
   ]
  },
  {
   "cell_type": "markdown",
   "id": "d890d33c",
   "metadata": {},
   "source": [
    "### Composición\n",
    "Una **composición** consiste en utilizar resultados de operaciones de álgebra relacional para crear expresiones más complejas. Por ejemplo,\n",
    "\n",
    "$$\n",
    "\\Pi_{\\texttt{atributo1, atributo2}, \\ldots}(\\sigma_{\\texttt{atributo * valor}}(\\texttt{relación})).\n",
    "$$\n",
    "\n",
    "De entre las composiciones más utilizadas, hay un tipo en el que se crea una relación a partir de dos relaciones en las que se igualan atributos de una con los de otra. A esto se le llama _join_ (que suele ser traducido como composición, justamente). Esta composición depende del producto cartesiano de las relaciones involucradas.\n",
    "\n",
    "$$\n",
    "\\sigma_{\\texttt{relación1.atributo1} = \\texttt{relación2.atributo2}}(\\texttt{relación1} \\times \\texttt{relación2})\n",
    "$$\n",
    "\n",
    "```\n",
    "relación1[relación1.atributo1 = relación2.atributo2]relación2\n",
    "```"
   ]
  },
  {
   "cell_type": "markdown",
   "id": "a39c2674",
   "metadata": {},
   "source": [
    "### Unión\n",
    "\n",
    "Suma las tuplas de dos relaciones con el mismo número de atributos y dominios asociados.\n",
    "\n",
    "$$\n",
    "\\texttt{relación1} \\cup \\texttt{relación2}\n",
    "$$\n",
    "\n",
    "```\n",
    "relación1 ∪ relación2\n",
    "```"
   ]
  },
  {
   "cell_type": "markdown",
   "id": "4830c5ac",
   "metadata": {},
   "source": [
    "### Intersección\n",
    "\n",
    "Regresa las tuplas presentes en dos relaciones intersectadas. También deben tener el mismo número de atributos y dominios asociados.\n",
    "\n",
    "$$\n",
    "\\texttt{relación1} \\cap \\texttt{relación2}\n",
    "$$\n",
    "\n",
    "```\n",
    "relación1 ∩ relación2\n",
    "```"
   ]
  },
  {
   "cell_type": "markdown",
   "id": "c7afeaf3",
   "metadata": {},
   "source": [
    "### Diferencia\n",
    "\n",
    "Regresa las tuplas de la primera relación, ausentes en la segunda. Deben tener el mismo número de atributos y dominios asociados.\n",
    "\n",
    "$$\n",
    "\\texttt{relación1} - \\texttt{relación2}\n",
    "$$\n",
    "\n",
    "```\n",
    "relación1 - relación2\n",
    "```"
   ]
  },
  {
   "cell_type": "markdown",
   "id": "666d7ef9-8115-4f4d-8f60-6a24a5b7c848",
   "metadata": {},
   "source": [
    "## Tarea\n",
    "\n",
    "### Instrucciones\n",
    "1. [3 puntos] Crea un esquema del modelo relacional de tu base de datos a partir del modelo e-r de la tarea anterior.\n",
    "1. [3 puntos] Representa con un diagrama relacional tu esquema del punto anterior.\n",
    "1. [4 puntos] Encuentra cuatro operaciones que vayas a usar en tu base de datos y exprésalas mediante operadores del álgebra relacional. Explica con tus propias palabras cada una de estas operaciones.\n",
    "1. Reporta tu tarea de una manera claramente identificable en el repositorio. Sube la evidencia a Nexus.\n",
    "\n",
    "### Ejemplo\n"
   ]
  }
 ],
 "metadata": {
  "kernelspec": {
   "display_name": "Python 3.10.4 ('ds')",
   "language": "python",
   "name": "python3"
  },
  "language_info": {
   "codemirror_mode": {
    "name": "ipython",
    "version": 3
   },
   "file_extension": ".py",
   "mimetype": "text/x-python",
   "name": "python",
   "nbconvert_exporter": "python",
   "pygments_lexer": "ipython3",
   "version": "3.10.4"
  },
  "vscode": {
   "interpreter": {
    "hash": "73cfb11ebb5098915952b858e6200bb38d79de5587d8fc0575441f97863c5189"
   }
  }
 },
 "nbformat": 4,
 "nbformat_minor": 5
}