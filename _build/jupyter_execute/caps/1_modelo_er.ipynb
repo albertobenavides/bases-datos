{
 "cells": [
  {
   "cell_type": "markdown",
   "id": "c7185509-3ea6-4dd0-b46b-e1c9734fc0dd",
   "metadata": {},
   "source": [
    "# Modelo entidad-relación\n",
    "\n",
    "Referencias de este capítulo {cite}`silberschatEA2006,conclase2004`.\n",
    "\n",
    "El modelo entidad-relación, también llamado modelo e-r, representa uno de los modelos de representación de bases de datos. Entre otros se halla el orientado a objetos o el relacional, que se verá en el siguiente capítulo."
   ]
  },
  {
   "cell_type": "markdown",
   "id": "54418c24-58c8-4219-834a-dca021a81ded",
   "metadata": {},
   "source": [
    "## Conceptos fundamentales\n",
    "En el modelo e-r, se epresentan objetos únicos como **entidades** agrupadas en **conjuntos de entidades** que comparten las mismas característiticas generales, llamadas **atributos**. Los atributos no cambian con el tiempo, de modo que la edad no es un atributo, pero sí la fecha de nacimiento. Adicionalmente, los **atributos** tienen **dominios** que limitan los posibles valores que pueden tomar.\n",
    "\n",
    "Las interacciones entre **conjuntos de entidades** se plasman con **relaciones**. El **grado** de las relaciones se mide por el número de **conjuntos de entidades** que intervienen en una misma relación. Una relación de grado 2 se llama **binaria**; una de grado 3, **ternaria**, etc.\n",
    "\n",
    "Hasta aquí, podemos establecer un ejemplo con una familia formada por padre, madre, hijo e hija. Cada integrante es una entidad. Todos los integrantes forman un conjunto de entidades que podríamos llamar `persona`. Podría interesarnos de estas personas conocer el `nombre`, `apellido parterno`, `apellido materno`, su `fecha de nacimiento`. Se puede establecer una relación ternaria entre padre, madre y cada hijo, del tipo padre y madre `procrearon` a cada hijo."
   ]
  },
  {
   "cell_type": "markdown",
   "id": "6076ee5b",
   "metadata": {},
   "source": [
    "## Cardinalidad\n",
    "Pese a que las relaciones pueden tener grado superior a 2, lo más común es encontrarse relaciones binarias entre conjuntos de entidades. Para estas relaciones binarias, se pueden establecer conjuntos de entidades llamadas **cardinalidades**. Las cardinalidades de las relaciones pueden ser **uno a uno**, **uno a mucho**, **muchos a uno** y **muchos a muchos**. \n",
    "\n",
    "Esto se puede representar en grafos y conjuntos entre entidades A y B a partir de relaciones binarias como arcos, como se ve en las figuras {numref}`%s<fig:cardinalidad:uno_uno>`, {numref}`%s<fig:cardinalidad:uno_muchos>`, {numref}`%s<fig:cardinalidad:muchos_uno>` y {numref}`%s<fig:cardinalidad:muchos_muchos>`."
   ]
  },
  {
   "cell_type": "markdown",
   "id": "9e76e0a2",
   "metadata": {},
   "source": [
    ":::::{div} full-width\n",
    "::::{grid}\n",
    "\n",
    ":::{grid-item}\n",
    "```{figure} ../imgs/card_uno_uno.svg\n",
    ":name: fig:cardinalidad:uno_uno\n",
    "\n",
    "Uno a uno.\n",
    "```\n",
    ":::\n",
    "\n",
    ":::{grid-item}\n",
    "```{figure} ../imgs/card_uno_muchos.svg\n",
    ":name: fig:cardinalidad:uno_muchos\n",
    "\n",
    "Uno a muchos.\n",
    "```\n",
    ":::\n",
    "\n",
    ":::{grid-item}\n",
    "```{figure} ../imgs/card_muchos_uno.svg\n",
    ":name: fig:cardinalidad:muchos_uno\n",
    "\n",
    "Muchos a uno.\n",
    "```\n",
    ":::\n",
    "\n",
    ":::{grid-item}\n",
    "```{figure} ../imgs/card_muchos_muchos.svg\n",
    ":name: fig:cardinalidad:muchos_muchos\n",
    "\n",
    "Muchos a muchos.\n",
    "```\n",
    ":::\n",
    "\n",
    "::::\n",
    ":::::"
   ]
  },
  {
   "cell_type": "markdown",
   "id": "cb38f0ed",
   "metadata": {},
   "source": [
    "## Claves\n",
    "Las **claves** son atributos necesarios para diferencias inequívocamente las entidades. Puedes pensarlo como las huellas digitales que permitirían diferenciar incluso a personas con el mismo nombre y apariencia física (como el caso de [Will y William West](https://rarehistoricalphotos.com/will-william-west-case-fingerprints/)).\n",
    "\n",
    "En este contexto, las **claves mínimas** son aquellos atributos que podrían utilizarse como claves y que dejarían de serlo si se modifican en alguna forma. Para un mayor de edad en México, serían sus huellas digitales y su [INE](https://www.ine.mx/credencial/), por ejemplo.\n",
    "\n",
    "Cuando hay varios atrituvos que cumplen con los requisitos, se llama **claves candidatas**. Elegir una de estas claves para representar a un modelo la convierte en **clave principal o primaria**.\n",
    "\n",
    "Por último, cuando se quieren establecer claves para relaciones de muchos a muchos, se suelen utilizar **claves múltiples o interrelacionadas**."
   ]
  },
  {
   "cell_type": "markdown",
   "id": "c3130ed0",
   "metadata": {},
   "source": [
    "## Diagrama entidad-relación\n"
   ]
  },
  {
   "cell_type": "markdown",
   "id": "c805de75",
   "metadata": {},
   "source": [
    "\n",
    "\n",
    "### Símbolos usados en la notación E-R\n",
    "\n",
    "### Conjunto de entidades débiles\n",
    "\n",
    "### Características del modelo E-R extendido\n",
    "\n",
    "### Especialización\n",
    "\n",
    "### Generalización\n",
    "\n",
    "### Herencia de atributos\n",
    "\n",
    "### Jerarquía y herencia múltiple\n",
    "\n",
    "### Restricciones sobre las generalizaciones\n",
    "\n",
    "### Agregación\n",
    "\n",
    "### Relaciones redundantes\n",
    "\n",
    "### Diseño de un esquema de base de datos E-R"
   ]
  },
  {
   "cell_type": "markdown",
   "id": "666d7ef9-8115-4f4d-8f60-6a24a5b7c848",
   "metadata": {},
   "source": [
    "## Tarea\n",
    "\n",
    "### Instrucciones\n",
    "1. Convierte tu base de datos no estructurada en un modelo entidad-relación\n",
    "1. Convierte tu base de datos no estructurada en un modelo relacional\n",
    "\n",
    "Puntos extra\n",
    "- Describir relaciones entre modelos\n",
    "- Especificar cálculos entre atributos\n",
    ":::\n",
    "\n",
    "### Ejemplo\n",
    "Un cliente requiere una página web donde llevar un control de partidos de Lacrosse en un torneo. Los partidos se juegan en una en una fecha determinada entre dos equipos. Se requiere conocer el marcador global del partido. Para esto, es necesario registrar los equipos que participarán en el torneo con un nombre, su logo y color. Hay que saber cuáles son los jugadores de cada equipo con su nombre y número de camiseta. Además, al cliente le interesa conocer cuál es el jugador con más tantos anotados por partido y de manera global. Igualmente, saber qué jugador hizo la mayor cantidad de intercepciones por partido y de manera global. Por otro lado interesa saber cuáles son los tantos e intercepciones por jugador y partido.\n",
    "\n",
    "- Equipo:\n",
    "    - nombre (texto),\n",
    "    - logo (imagen),\n",
    "    - color (texto).\n",
    "- Jugador:\n",
    "    - nombre (texto),\n",
    "    - número (entero),\n",
    "    - Equipo.\n",
    "- Partido:\n",
    "    - Equipo visitante,\n",
    "    - Equipo local,\n",
    "    - fecha (fecha y hora),\n",
    "    - resultado (texto).\n",
    "- Gol:\n",
    "    - Partido,\n",
    "    - Jugador,\n",
    "    - tiempo (hora).\n",
    "- Salvada:\n",
    "    - Partido,\n",
    "    - Jugador,\n",
    "    - tiempo (hora)."
   ]
  }
 ],
 "metadata": {
  "kernelspec": {
   "display_name": "Python 3.10.4 ('ds')",
   "language": "python",
   "name": "python3"
  },
  "language_info": {
   "codemirror_mode": {
    "name": "ipython",
    "version": 3
   },
   "file_extension": ".py",
   "mimetype": "text/x-python",
   "name": "python",
   "nbconvert_exporter": "python",
   "pygments_lexer": "ipython3",
   "version": "3.10.4"
  },
  "vscode": {
   "interpreter": {
    "hash": "73cfb11ebb5098915952b858e6200bb38d79de5587d8fc0575441f97863c5189"
   }
  }
 },
 "nbformat": 4,
 "nbformat_minor": 5
}