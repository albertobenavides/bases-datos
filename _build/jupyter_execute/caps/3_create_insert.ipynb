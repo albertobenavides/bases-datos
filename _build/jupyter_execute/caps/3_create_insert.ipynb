{
 "cells": [
  {
   "cell_type": "markdown",
   "id": "666d7ef9-8115-4f4d-8f60-6a24a5b7c848",
   "metadata": {},
   "source": [
    "# Crear base de datos\n",
    "\n",
    "Referencias de este capítulo {cite}`debarros2018,mysql`.\n",
    "\n",
    "Este curso está orientado a SQL. De entre la variedad de SGBD, se opta por [MySQL](https://www.mysql.com/) por ser gratuito, de libre uso y gran distribución. Otra opción que me interesa es SQLite, principalmente porque nunca he usado directamente, pero sus tipos de datos están limitados. Por eso, MySQL me parece una opción más didáctica.\n",
    "\n",
    "Todas las instrucciones y consultas de SQL se pueden ejecutar en un SGBD previamente instalado. Pero, para fines prácticos, recomiendo utilizar la página https://sqliteonline.com/ que tiene listos para usarse ambientes de SQLite, MariaDB, PostgreSQL, MS SQL y Docker con integreciones de servidor de estas herramientas. Puedes usar el que más te guste, pues aunque cada lenguaje tiene sus peculiaridades, todos parten del lenguaje estructurado estándar que representa SQL. [MariaDB](https://mariadb.org/) es totalmente compatible con MySQL.\n",
    "\n",
    "## Instrucciones para bases de datos\n",
    "Las instrucciones en MySQL (o MariaDB) usan `;` al final.\n",
    "\n",
    "### Crear\n",
    "\n",
    "```mysql\n",
    "CREATE DATABASE ejemplo;\n",
    "```\n",
    "\n",
    "### Mostrar\n",
    "\n",
    "```mysql\n",
    "SHOW DATABASES;\n",
    "```\n",
    "\n",
    "### Usar\n",
    "\n",
    "```mysql\n",
    "USE ejemplo;\n",
    "```"
   ]
  },
  {
   "cell_type": "markdown",
   "id": "ab4e9a5d",
   "metadata": {},
   "source": [
    "## Tipos de datos\n",
    "\n",
    "En SQL, los **tipos de datos** son equivalentes a los dominios de los modelos e-r y relacional.\n",
    "\n",
    "¿Por qué es importante elegir un tipo de datos correcto?\n",
    "\n",
    "|Tipo de dato | Descripción |\n",
    "| --- | --- |\n",
    "| `CHAR` | Contiene `1` caracter. |\n",
    "| `CHAR(n)` | Contiene `n` caracteres, rellenados con espacios. |\n",
    "| `VARCHAR(n)` | Contiene `n` caracteres de longitud variable. |\n",
    "| `TINYINT` | Entero con valor 0 o 1. Equivalentes: `BIT`, `BOOL`, `BOOLEAN`. |\n",
    "| `TINYINT(n)` | Enteros con longitud `n`. Por defecto, entre -128 y 127. `UNSIGNED` entre 0 y 255. |\n",
    "| `SMALLINT(n)` | Enteros con longitud `n`. Por defecto, entre -32768 y 32767. `UNSIGNED` entre 0 y 65535. |\n",
    "| `MEDIUMINT(n)` | Enteros con longitud `n`. Por defecto, entre -8388608 y 8388607. `UNSIGNED` entre 0 y 16777215. |\n",
    "| `INT(n)` | Enteros con longitud `n`. Por defecto, entre -2147483648 y 2147483647. `UNSIGNED` entre 0 y 4294967295. |\n",
    "| `INTEGER(n)` | Enteros con longitud `n`. Por defecto, entre -2147483648 y 2147483647. `UNSIGNED` entre 0 y 4294967295. |\n",
    "| `BIGINT(n)` | Enteros con longitud `n`. Por defecto, entre -9223372036854775808 a 9223372036854775807. `UNSIGNED` entre 0 y 18446744073709551615. |\n",
    "| `FLOAT(n, m)` | Reales con longitud `n` y `m` posiciones decimales. Separa 4 bytes. |\n",
    "| `DOUBLE(n, m)` | Reales con longitud `n` y `m` posiciones decimales. Separa 8 bytes. |\n",
    "| `FLOAT(n)` | Reales con presición 0 a 53. Si se elige precisión 0 a 24, se trata de un FLOAT`, si se elige de 25 a 53, se trata de un `DOUBLE`. |\n",
    "| `DECIMAL(n, m)` | Reales con longitud `n` y `m` posiciones decimales. Tienen longitud fija, como las monedas. Equivalentes: `DEC`, `NUMERIC`, `FIXED`. |\n",
    "| `DATE` | Fechas con formato `AAAA-MM-DD` entre `1000-01-01` y `9999-12-31`. Se puede usar cadenas de texto. |\n",
    "| `TIME` | Fechas con formato `HH:MM:SS` entre `00:00:00` y `23:59:59`. Se puede usar cadenas de texto. |\n",
    "| `DATETIME` | Fechas con formato `AAAA-MM-DD HH:MM:SS` entre `1000-01-01 00:00:00` y `9999-12-31 23:59:59`. Se puede usar cadenas de texto. |\n",
    "| `TIMESTAMP` | Fechas con formato `AAAA-MM-DD HH:MM:SS.000000` entre `1000-01-01 00:00:00.000000` y `9999-12-31 23:59:59.999999`. Se puede usar cadenas de texto. |\n",
    "| `YEAR(n)` | Años entre 1901 y 2155 para `n = 4`. Entre 0 y 99 para `n = 2`; al usar este formato, 0 a 69 corresponden de 2000 a 2069, 70 a 99 van de 1970 a 1999.|\n",
    "| `BLOB` | Siglas de _binary large object_ (o gran objeto binario en español). Equivalente a una cadena de texto binaria. Longitud de 65535 caracteres. Equivalente `TEXT` como cadena de texto no binaria.|\n",
    "| `TINYBLOB` | Cadena de texto binaria. Longitud de 255 caracteres. Equivalente `TINYTEXT` como cadena de texto no binaria.|\n",
    "| `MEDIUMBLOB` | Cadena de texto binaria. Longitud de 16777215 caracteres. Equivalente `MEDIUMTEXT` como cadena de texto no binaria.|\n",
    "| `LONGBLOB` | Cadena de texto binaria. Longitud de 4294967298 caracteres. Equivalente `LONGTEXT` como cadena de texto no binaria.|\n",
    "| `ENUM('valor1', 'valor2', ...)` | Lista de hasta 65535 valores. Cada uno asociado a un valor entero empezando en 0. `NULL` para valor `NULL`|\n",
    "| `ENUM('valor1', 'valor2', ...)` | Conjunto de hasta 64 valores. Valor vacío permitido. Las diferentes combinaciones de valores activados y desactivados se definen por números binarios.|"
   ]
  },
  {
   "cell_type": "markdown",
   "id": "390edffc",
   "metadata": {},
   "source": [
    "## Crear tabla\n",
    "```mysql\n",
    "CREATE TABLE tabla1 ( # Crea la tabla tabla1\n",
    "    variable1 TIPODATO1, -- Aquí se crea la variable1 con un tipo de dato específico\n",
    "    variable2 TIPODATO2, /* No sé qué más decir, pero esto es otro comentario */\n",
    "    ...\n",
    ");\n",
    "```\n",
    "\n",
    "### Valores nulos\n",
    "```mysql\n",
    "CREATE TABLE tabla1 (\n",
    "    variable1 TIPODATO1 NULL, # Permite valores nulos\n",
    "    variable2 TIPODATO2 NOT NULL, # No permite valores nulos\n",
    "    ...\n",
    ");\n",
    "```\n",
    "\n",
    "### Valores por defecto\n",
    "```mysql\n",
    "CREATE TABLE tabla1 (\n",
    "    variable1 TIPODATO1 DEFAULT valor1, # variable1 toma por defecto valor1 si no se le pasan datos\n",
    "    ...\n",
    ");\n",
    "```\n"
   ]
  },
  {
   "cell_type": "markdown",
   "id": "95253de7",
   "metadata": {},
   "source": [
    "### Primary keys\n"
   ]
  },
  {
   "cell_type": "markdown",
   "id": "54817def",
   "metadata": {},
   "source": [
    "\n",
    "### autoincrement"
   ]
  },
  {
   "cell_type": "markdown",
   "id": "deb084e7",
   "metadata": {},
   "source": [
    "### Unique"
   ]
  },
  {
   "cell_type": "markdown",
   "id": "3c6f5342",
   "metadata": {},
   "source": [
    "### Check"
   ]
  },
  {
   "cell_type": "markdown",
   "id": "f904df1d",
   "metadata": {},
   "source": [
    "\n",
    "## Estándares de diseño de tablas\n"
   ]
  },
  {
   "cell_type": "markdown",
   "id": "3b56af3c",
   "metadata": {},
   "source": [
    "\n",
    "## INSERT\n"
   ]
  },
  {
   "cell_type": "markdown",
   "id": "2ccd7da9",
   "metadata": {},
   "source": [
    "## Tarea\n",
    "\n",
    "### Instrucciones\n",
    "1. [2 punto] Elegir entre SQLite, MySQL (MariaDB), PostgreSQL o MS SQL para trabajar a partir de aquí. Justificar la decisión.\n",
    "1. [6 puntos] Escribir las instrucciones para crear una base de datos a partir del modelo e-r o relacional. \n",
    "    - Guarda estas instrucciones en un archivo de texto con una extensión adecuada al SGBD que elegiste. \n",
    "    - Asegúrate de que tus instrucciones se puedan ejecutar desde https://sqliteonline.com/\n",
    "1. [2 puntos] Detallar las modificaciones o cambios no contempladas en los modelos, que surgieron tras crear la base de datos y las tablas.\n",
    "\n",
    "### Ejemplo\n",
    "```mysql\n",
    "SET FOREIGN_KEY_CHECKS=0;\n",
    "drop TABLE if EXISTS torneo;\n",
    "CREATE TABLE torneo (\n",
    "  torneo_id INT AUTO_INCREMENT PRIMARY KEY,\n",
    "  nombre VARCHAR(20),\n",
    "  inicio DATE,\n",
    "  fin DATE, \n",
    "  calle VARCHAR(50),\n",
    "  numero VARCHAR(10),\n",
    "  colonia VARCHAR(50),\n",
    "  municipio VARCHAR(20),\n",
    "  estado VARCHAR(20),\n",
    "  pais VARCHAR(20)\n",
    ");\n",
    "\n",
    "drop TABLE if EXISTS equipo;\n",
    "CREATE TABLE equipo(\n",
    "  equipo_id INT AUTO_INCREMENT PRIMARY KEY,\n",
    "  nombre VARCHAR(20),\n",
    "  logo BLOB,\n",
    "  color VARCHAR(10)\n",
    ");\n",
    "\n",
    "DROP TABLE IF EXISTS partido;\n",
    "create table partido(\n",
    "  partido_id INT NOT NULL PRIMARY KEY,\n",
    "  inicio DATETIME,\n",
    "  equipo_local INT NOT NULL,\n",
    "  \tFOREIGN KEY (equipo_local) REFERENCES equipo(equipo_id),\n",
    "  equipo_visitante INT NOT NULL,\n",
    "  \tFOREIGN KEY (equipo_visitante) REFERENCES equipo(equipo_id),\n",
    "  torneo_id INT NOT NULL,\n",
    "  \tFOREIGN KEY (torneo_id) REFERENCES torneo(torneo_id)\n",
    ");\n",
    "\n",
    "DROP TABLE IF EXISTS jugador;\n",
    "CREATE TABLE jugador (\n",
    "  jugador_id INT AUTO_INCREMENT PRIMARY KEY,\n",
    "  nombre VARCHAR(50),\n",
    "  apellido_paterno VARCHAR(50),\n",
    "  apellido_materno VARCHAR(50),\n",
    "  partido_id INT NOT NULL,\n",
    "  \tFOREIGN KEY (partido_id) REFERENCES partido(partido_id)\n",
    ");\n",
    "\n",
    "DROP TABLE IF EXISTS gol;\n",
    "CREATE TABLE gol (\n",
    "  partido_id INT NOT NULL,\n",
    "  \tFOREIGN KEY (partido_id) REFERENCES partido(partido_id),\n",
    "  jugador_id INT NOT NULL,\n",
    "  \tFOREIGN KEY (jugador_id) REFERENCES jugador(jugador_id),\n",
    "  estado ENUM('mete', 'ataja')\n",
    ");\n",
    "SET FOREIGN_KEY_CHECKS=1;\n",
    "```"
   ]
  }
 ],
 "metadata": {
  "kernelspec": {
   "display_name": "Python 3.10.4 ('ds')",
   "language": "python",
   "name": "python3"
  },
  "language_info": {
   "codemirror_mode": {
    "name": "ipython",
    "version": 3
   },
   "file_extension": ".py",
   "mimetype": "text/x-python",
   "name": "python",
   "nbconvert_exporter": "python",
   "pygments_lexer": "ipython3",
   "version": "3.10.4"
  },
  "vscode": {
   "interpreter": {
    "hash": "73cfb11ebb5098915952b858e6200bb38d79de5587d8fc0575441f97863c5189"
   }
  }
 },
 "nbformat": 4,
 "nbformat_minor": 5
}