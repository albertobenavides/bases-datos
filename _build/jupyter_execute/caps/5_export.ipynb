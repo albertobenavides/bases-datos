{
 "cells": [
  {
   "cell_type": "markdown",
   "id": "6ce8a9f3",
   "metadata": {},
   "source": [
    "# Exportar e importar"
   ]
  },
  {
   "cell_type": "markdown",
   "id": "0de2cbbc",
   "metadata": {},
   "source": [
    "## Exportar\n",
    "\n",
    "## Importar\n",
    "\n",
    "## CSV\n",
    "\n",
    "## Llaves foráneas\n",
    "\n",
    "## INDEX Explain (valocidad de lectura)\n",
    "\n",
    "## Estadística descriptiva básica\n",
    "\n",
    "## Funciones de agregación"
   ]
  },
  {
   "cell_type": "markdown",
   "id": "666d7ef9-8115-4f4d-8f60-6a24a5b7c848",
   "metadata": {},
   "source": [
    "## Tarea\n",
    "\n",
    "### Instrucciones\n",
    "1. \n",
    "\n",
    "Puntos extra\n",
    "- \n",
    "\n",
    "### Ejemplo\n"
   ]
  }
 ],
 "metadata": {
  "kernelspec": {
   "display_name": "Python 3.10.4 ('ds')",
   "language": "python",
   "name": "python3"
  },
  "language_info": {
   "codemirror_mode": {
    "name": "ipython",
    "version": 3
   },
   "file_extension": ".py",
   "mimetype": "text/x-python",
   "name": "python",
   "nbconvert_exporter": "python",
   "pygments_lexer": "ipython3",
   "version": "3.10.4"
  },
  "vscode": {
   "interpreter": {
    "hash": "73cfb11ebb5098915952b858e6200bb38d79de5587d8fc0575441f97863c5189"
   }
  }
 },
 "nbformat": 4,
 "nbformat_minor": 5
}