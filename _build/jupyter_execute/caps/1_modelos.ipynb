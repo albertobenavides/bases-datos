{
 "cells": [
  {
   "cell_type": "markdown",
   "id": "c7185509-3ea6-4dd0-b46b-e1c9734fc0dd",
   "metadata": {},
   "source": [
    "# Modelos de datos\n",
    "\n",
    "\n",
    "\n",
    "Referencias de este capítulo {cite}`silberschatEA2006,beaulieu2020`."
   ]
  },
  {
   "cell_type": "markdown",
   "id": "666d7ef9-8115-4f4d-8f60-6a24a5b7c848",
   "metadata": {},
   "source": [
    "## Tarea\n",
    "\n",
    "### Instrucciones\n",
    "1. Convierte tu base de datos no estructurada en un modelo entidad-relación\n",
    "1. Convierte tu base de datos no estructurada en un modelo relacional\n",
    "\n",
    "Puntos extra\n",
    "- Describir relaciones entre modelos\n",
    "- Especificar cálculos entre atributos\n",
    ":::\n",
    "\n",
    "### Ejemplo\n",
    "Un cliente requiere una página web donde llevar un control de partidos de Lacrosse en un torneo. Los partidos se juegan en una en una fecha determinada entre dos equipos. Se requiere conocer el marcador global del partido. Para esto, es necesario registrar los equipos que participarán en el torneo con un nombre, su logo y color. Hay que saber cuáles son los jugadores de cada equipo con su nombre y número de camiseta. Además, al cliente le interesa conocer cuál es el jugador con más tantos anotados por partido y de manera global. Igualmente, saber qué jugador hizo la mayor cantidad de intercepciones por partido y de manera global. Por otro lado interesa saber cuáles son los tantos e intercepciones por jugador y partido.\n",
    "\n",
    "- Equipo:\n",
    "    - nombre (texto),\n",
    "    - logo (imagen),\n",
    "    - color (texto).\n",
    "- Jugador:\n",
    "    - nombre (texto),\n",
    "    - número (entero),\n",
    "    - Equipo.\n",
    "- Partido:\n",
    "    - Equipo visitante,\n",
    "    - Equipo local,\n",
    "    - fecha (fecha y hora),\n",
    "    - resultado (texto).\n",
    "- Gol:\n",
    "    - Partido,\n",
    "    - Jugador,\n",
    "    - tiempo (hora).\n",
    "- Salvada:\n",
    "    - Partido,\n",
    "    - Jugador,\n",
    "    - tiempo (hora)."
   ]
  }
 ],
 "metadata": {
  "kernelspec": {
   "display_name": "Python 3 (ipykernel)",
   "language": "python",
   "name": "python3"
  },
  "language_info": {
   "codemirror_mode": {
    "name": "ipython",
    "version": 3
   },
   "file_extension": ".py",
   "mimetype": "text/x-python",
   "name": "python",
   "nbconvert_exporter": "python",
   "pygments_lexer": "ipython3",
   "version": "3.10.4"
  }
 },
 "nbformat": 4,
 "nbformat_minor": 5
}